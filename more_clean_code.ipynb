{
  "nbformat": 4,
  "nbformat_minor": 0,
  "metadata": {
    "colab": {
      "provenance": [],
      "authorship_tag": "ABX9TyPQhcprDcilPcOn68/ywfJX",
      "include_colab_link": true
    },
    "kernelspec": {
      "name": "python3",
      "display_name": "Python 3"
    },
    "language_info": {
      "name": "python"
    }
  },
  "cells": [
    {
      "cell_type": "markdown",
      "metadata": {
        "id": "view-in-github",
        "colab_type": "text"
      },
      "source": [
        "<a href=\"https://colab.research.google.com/github/illhammm/Sign_preprocessing/blob/ne_provereno/more_clean_code.ipynb\" target=\"_parent\"><img src=\"https://colab.research.google.com/assets/colab-badge.svg\" alt=\"Open In Colab\"/></a>"
      ]
    },
    {
      "cell_type": "markdown",
      "source": [
        "*Установка необходимых библиотек*"
      ],
      "metadata": {
        "id": "KTin7QyLP6wq"
      }
    },
    {
      "cell_type": "code",
      "execution_count": 1,
      "metadata": {
        "colab": {
          "base_uri": "https://localhost:8080/"
        },
        "id": "FhI4gjP0P2mb",
        "outputId": "ae512a60-302a-4aa7-a5d6-49a874affb8f"
      },
      "outputs": [
        {
          "output_type": "stream",
          "name": "stdout",
          "text": [
            "Requirement already satisfied: pyarrow in /usr/local/lib/python3.10/dist-packages (10.0.1)\n",
            "Requirement already satisfied: numpy>=1.16.6 in /usr/local/lib/python3.10/dist-packages (from pyarrow) (1.23.5)\n",
            "Requirement already satisfied: pandas in /usr/local/lib/python3.10/dist-packages (1.5.3)\n",
            "Requirement already satisfied: python-dateutil>=2.8.1 in /usr/local/lib/python3.10/dist-packages (from pandas) (2.8.2)\n",
            "Requirement already satisfied: pytz>=2020.1 in /usr/local/lib/python3.10/dist-packages (from pandas) (2023.3.post1)\n",
            "Requirement already satisfied: numpy>=1.21.0 in /usr/local/lib/python3.10/dist-packages (from pandas) (1.23.5)\n",
            "Requirement already satisfied: six>=1.5 in /usr/local/lib/python3.10/dist-packages (from python-dateutil>=2.8.1->pandas) (1.16.0)\n",
            "Requirement already satisfied: opencv-python in /usr/local/lib/python3.10/dist-packages (4.9.0.80)\n",
            "Requirement already satisfied: numpy>=1.21.2 in /usr/local/lib/python3.10/dist-packages (from opencv-python) (1.23.5)\n",
            "Requirement already satisfied: opencv-python in /usr/local/lib/python3.10/dist-packages (4.9.0.80)\n",
            "Requirement already satisfied: numpy>=1.21.2 in /usr/local/lib/python3.10/dist-packages (from opencv-python) (1.23.5)\n",
            "Requirement already satisfied: opencv-python in /usr/local/lib/python3.10/dist-packages (4.9.0.80)\n",
            "Requirement already satisfied: numpy>=1.21.2 in /usr/local/lib/python3.10/dist-packages (from opencv-python) (1.23.5)\n"
          ]
        }
      ],
      "source": [
        "!pip install pyarrow\n",
        "!pip install pandas\n",
        "!pip install opencv-python\n",
        "!pip install opencv-python\n",
        "!pip install --upgrade opencv-python"
      ]
    },
    {
      "cell_type": "markdown",
      "source": [
        "*Импорт библиотек*"
      ],
      "metadata": {
        "id": "BzL9_Ps4QB9i"
      }
    },
    {
      "cell_type": "code",
      "source": [
        "import pandas as pd\n",
        "import pyarrow.parquet as pq\n",
        "from google.colab import files\n",
        "import matplotlib.pyplot as plt\n",
        "import numpy as np\n",
        "from PIL import Image\n",
        "import cv2"
      ],
      "metadata": {
        "id": "URf5vZZWP_hz"
      },
      "execution_count": 2,
      "outputs": []
    },
    {
      "cell_type": "markdown",
      "source": [
        "*Чтение DataFrame из .pkl файла* (**если файл не найден, загрузка из Google Colab**)"
      ],
      "metadata": {
        "id": "K9tGCXGwQTI6"
      }
    },
    {
      "cell_type": "code",
      "source": [
        "try:\n",
        "    df = pd.read_pickle('train-00000-of-00001-a16b0610cb895cd7.pkl')\n",
        "except FileNotFoundError:\n",
        "    uploaded = files.upload()\n",
        "    file_name = list(uploaded.keys())[0]\n",
        "    table = pq.read_table(file_name)\n",
        "    df = table.to_pandas()\n",
        "    df.to_pickle('train-00000-of-00001-a16b0610cb895cd7.pkl')"
      ],
      "metadata": {
        "id": "yyTaV7a_QOqR"
      },
      "execution_count": 3,
      "outputs": []
    },
    {
      "cell_type": "markdown",
      "source": [
        "*Вывод информации о DataFrame*"
      ],
      "metadata": {
        "id": "mGJxRpjKQlKS"
      }
    },
    {
      "cell_type": "code",
      "source": [
        "print(df.info())"
      ],
      "metadata": {
        "colab": {
          "base_uri": "https://localhost:8080/"
        },
        "id": "bbQnmGAjQbJx",
        "outputId": "ef5680d6-8ed3-47fa-c8f3-9f21b7147ba5"
      },
      "execution_count": 4,
      "outputs": [
        {
          "output_type": "stream",
          "name": "stdout",
          "text": [
            "<class 'pandas.core.frame.DataFrame'>\n",
            "RangeIndex: 504 entries, 0 to 503\n",
            "Data columns (total 5 columns):\n",
            " #   Column    Non-Null Count  Dtype \n",
            "---  ------    --------------  ----- \n",
            " 0   image_id  504 non-null    int64 \n",
            " 1   image     504 non-null    object\n",
            " 2   width     504 non-null    int32 \n",
            " 3   height    504 non-null    int32 \n",
            " 4   objects   504 non-null    object\n",
            "dtypes: int32(2), int64(1), object(2)\n",
            "memory usage: 15.9+ KB\n",
            "None\n"
          ]
        }
      ]
    },
    {
      "cell_type": "markdown",
      "source": [
        "*Вывод первых несколько строк DataFrame*"
      ],
      "metadata": {
        "id": "9picmkhgSYI5"
      }
    },
    {
      "cell_type": "code",
      "source": [
        "print(df.head())"
      ],
      "metadata": {
        "colab": {
          "base_uri": "https://localhost:8080/"
        },
        "id": "aU0Eho6_SRC6",
        "outputId": "e955b985-fd0c-4b05-f9c6-ac38bb63fd9e"
      },
      "execution_count": 5,
      "outputs": [
        {
          "output_type": "stream",
          "name": "stdout",
          "text": [
            "   image_id                                              image  width  height  \\\n",
            "0       184  {'bytes': b'\\xff\\xd8\\xff\\xe0\\x00\\x10JFIF\\x00\\x...    640     640   \n",
            "1       403  {'bytes': b'\\xff\\xd8\\xff\\xe0\\x00\\x10JFIF\\x00\\x...    640     640   \n",
            "2       393  {'bytes': b'\\xff\\xd8\\xff\\xe0\\x00\\x10JFIF\\x00\\x...    640     640   \n",
            "3       317  {'bytes': b'\\xff\\xd8\\xff\\xe0\\x00\\x10JFIF\\x00\\x...    640     640   \n",
            "4       304  {'bytes': b'\\xff\\xd8\\xff\\xe0\\x00\\x10JFIF\\x00\\x...    640     640   \n",
            "\n",
            "                                             objects  \n",
            "0  {'id': [184], 'area': [39601], 'bbox': [[200.0...  \n",
            "1  {'id': [403], 'area': [81840], 'bbox': [[56.0,...  \n",
            "2  {'id': [393], 'area': [91178], 'bbox': [[87.0,...  \n",
            "3  {'id': [317], 'area': [30397], 'bbox': [[237.0...  \n",
            "4  {'id': [304], 'area': [92757], 'bbox': [[32.0,...  \n"
          ]
        }
      ]
    },
    {
      "cell_type": "markdown",
      "source": [
        "**Вывод названий всех столбцов в DataFrame**, *чтобы знать название шапки таблицы строки с изображениями*"
      ],
      "metadata": {
        "id": "v8NcIjH8Sg5J"
      }
    },
    {
      "cell_type": "code",
      "source": [
        "print(df.columns)"
      ],
      "metadata": {
        "colab": {
          "base_uri": "https://localhost:8080/"
        },
        "id": "gzE5u1ZzScGh",
        "outputId": "002b0ee9-0b92-42ba-c172-9509775c77f4"
      },
      "execution_count": 6,
      "outputs": [
        {
          "output_type": "stream",
          "name": "stdout",
          "text": [
            "Index(['image_id', 'image', 'width', 'height', 'objects'], dtype='object')\n"
          ]
        }
      ]
    },
    {
      "cell_type": "markdown",
      "source": [
        "*Узнаем тип данных изображений в столбце*"
      ],
      "metadata": {
        "id": "YiCUehRqS6B-"
      }
    },
    {
      "cell_type": "code",
      "source": [
        "data_types = df['image'].apply(type).unique()\n",
        "print(f\"Уникальные типы данных во втором столбце: {data_types}\")"
      ],
      "metadata": {
        "colab": {
          "base_uri": "https://localhost:8080/"
        },
        "id": "_ssd3SGFNT6V",
        "outputId": "14b53831-4f5a-45cc-e15e-bdd95e4a7a8a"
      },
      "execution_count": 7,
      "outputs": [
        {
          "output_type": "stream",
          "name": "stdout",
          "text": [
            "Уникальные типы данных во втором столбце: [<class 'dict'>]\n"
          ]
        }
      ]
    },
    {
      "cell_type": "markdown",
      "source": [
        "*Тоже самое по-сути:*"
      ],
      "metadata": {
        "id": "CwEfB8vZNXra"
      }
    },
    {
      "cell_type": "code",
      "source": [
        "data_type = type(df.iloc[0, 1])\n",
        "print(f\"Тип данных во втором столбце: {data_type}\")"
      ],
      "metadata": {
        "colab": {
          "base_uri": "https://localhost:8080/"
        },
        "id": "YQz395jZS2qR",
        "outputId": "fb7b15b7-0d67-4224-80da-0bef4762fa81"
      },
      "execution_count": 8,
      "outputs": [
        {
          "output_type": "stream",
          "name": "stdout",
          "text": [
            "Тип данных во втором столбце: <class 'dict'>\n"
          ]
        }
      ]
    },
    {
      "cell_type": "markdown",
      "source": [
        "*Функция для преобразования словаря с изображением в формат OpenCV*"
      ],
      "metadata": {
        "id": "xIkKfYNQJtXc"
      }
    },
    {
      "cell_type": "code",
      "source": [
        "def convert_dict_to_opencv(dict_image):\n",
        "    try:\n",
        "        # Пробуем получить данные изображения по ключу 'b'\n",
        "        image_bytes = dict_image['b']\n",
        "    except KeyError:\n",
        "        try:\n",
        "            # Если 'b' не сработало, пробуем получить первый доступный ключ\n",
        "            image_bytes = next(iter(dict_image.values()))\n",
        "        except StopIteration:\n",
        "            # Если нет доступных ключей, не удается обработать изображение\n",
        "            return None\n",
        "\n",
        "    # Преобразование байтов в массив NumPy\n",
        "    image_array = np.frombuffer(image_bytes, dtype=np.uint8)\n",
        "    # Декодирование изображения с использованием OpenCV\n",
        "    opencv_image = cv2.imdecode(image_array, cv2.IMREAD_COLOR)\n",
        "    return opencv_image\n"
      ],
      "metadata": {
        "id": "JO_H64VaCZ3t"
      },
      "execution_count": 9,
      "outputs": []
    },
    {
      "cell_type": "code",
      "source": [
        "# Применяем функцию к столбцу image и создаем новую колонку image_opencv\n",
        "\n",
        "df['image_opencv'] = df['image'].apply(convert_dict_to_opencv)"
      ],
      "metadata": {
        "id": "htIVlXNpCo1f"
      },
      "execution_count": 10,
      "outputs": []
    },
    {
      "cell_type": "markdown",
      "source": [
        "*Проверим то, что столбец добавился*"
      ],
      "metadata": {
        "id": "W-A3my2UTnU5"
      }
    },
    {
      "cell_type": "code",
      "source": [
        "print(df.columns)"
      ],
      "metadata": {
        "colab": {
          "base_uri": "https://localhost:8080/"
        },
        "id": "gmmoWTV1Tg0g",
        "outputId": "2b0560a8-46c1-4132-ca2f-faca2cff6db8"
      },
      "execution_count": 11,
      "outputs": [
        {
          "output_type": "stream",
          "name": "stdout",
          "text": [
            "Index(['image_id', 'image', 'width', 'height', 'objects', 'image_opencv'], dtype='object')\n"
          ]
        }
      ]
    },
    {
      "cell_type": "markdown",
      "source": [
        "**Функция для отображения изображения из словаря**"
      ],
      "metadata": {
        "id": "RsItAFjQTxsI"
      }
    },
    {
      "cell_type": "markdown",
      "source": [
        "*Вызываем функцию для отображения первого изображения в столбце 'image'*"
      ],
      "metadata": {
        "id": "9DsSmx1oTgNa"
      }
    },
    {
      "cell_type": "code",
      "source": [
        "# Выберем первое изображение из столбца 'image'\n",
        "first_image_dict = df['image'].iloc[0]"
      ],
      "metadata": {
        "id": "8FLj1CMbN1yr"
      },
      "execution_count": 12,
      "outputs": []
    },
    {
      "cell_type": "code",
      "source": [
        "# Попробуем получить байтовые данные изображения из словаря\n",
        "image_bytes = None\n",
        "for key in first_image_dict.keys():\n",
        "    if isinstance(first_image_dict[key], bytes):\n",
        "        image_bytes = first_image_dict[key]\n",
        "        break"
      ],
      "metadata": {
        "id": "l-yL2yI_N-47"
      },
      "execution_count": 13,
      "outputs": []
    },
    {
      "cell_type": "code",
      "source": [
        "# Если байтовые данные найдены, продолжим обработку\n",
        "if image_bytes:\n",
        "    # Преобразуем байты в массив NumPy\n",
        "    image_array = np.frombuffer(image_bytes, dtype=np.uint8)\n",
        "\n",
        "    # Декодируем изображение с использованием OpenCV\n",
        "    opencv_image = cv2.imdecode(image_array, cv2.IMREAD_COLOR)\n",
        "\n",
        "    # Отобразим изображение с помощью matplotlib\n",
        "    plt.imshow(opencv_image)\n",
        "    plt.axis('off')\n",
        "    plt.show()\n",
        "else:\n",
        "    print(\"Байтовые данные изображения не найдены в словаре.\")"
      ],
      "metadata": {
        "colab": {
          "base_uri": "https://localhost:8080/",
          "height": 406
        },
        "id": "X5-F38zvOhES",
        "outputId": "7b8cbf0f-28f9-4ace-a6f3-3ab2de12ebc3"
      },
      "execution_count": 14,
      "outputs": [
        {
          "output_type": "display_data",
          "data": {
            "text/plain": [
              "<Figure size 640x480 with 1 Axes>"
            ],
            "image/png": "[encoded data removed]"
          },
          "metadata": {}
        }
      ]
    },
    {
      "cell_type": "markdown",
      "source": [
        "*Функция для проверки наличия **лица** на изображении*\n",
        "\n",
        "\n"
      ],
      "metadata": {
        "id": "3a3guru7UN-J"
      }
    },
    {
      "cell_type": "markdown",
      "source": [
        " (Haar Cascade) - для расопзнавания лиц\n",
        "# инициализируется с помощью cv2.CascadeClassifier\n",
        "# detectMultiScale для поиска лиц на изображении\n",
        "Если лица обнаружены, они выделяются на изображении и отображаются с использованием *matplotlib*"
      ],
      "metadata": {
        "id": "vC6adg_zV4Nf"
      }
    },
    {
      "cell_type": "code",
      "source": [
        "def has_face(image):\n",
        "    gray = cv2.cvtColor(image, cv2.COLOR_BGR2GRAY)\n",
        "    faces = face_cascade.detectMultiScale(gray, scaleFactor=1.1, minNeighbors=5, minSize=(30, 30))\n",
        "    return len(faces) > 0"
      ],
      "metadata": {
        "id": "H0VH8nCRT_6o"
      },
      "execution_count": 15,
      "outputs": []
    },
    {
      "cell_type": "markdown",
      "source": [
        "*Инициализация каскада для распознавания лиц*"
      ],
      "metadata": {
        "id": "4wgWn6LqYkrA"
      }
    },
    {
      "cell_type": "code",
      "source": [
        "face_cascade = cv2.CascadeClassifier(cv2.data.haarcascades + 'haarcascade_frontalface_default.xml')"
      ],
      "metadata": {
        "id": "VJ4oJ9FqVa8o"
      },
      "execution_count": 16,
      "outputs": []
    },
    {
      "cell_type": "markdown",
      "source": [
        "Выберем первое изображение из столбца 'image'"
      ],
      "metadata": {
        "id": "bg_ig_pKUymh"
      }
    },
    {
      "cell_type": "code",
      "source": [
        "first_image_dict = df['image'].iloc[0]"
      ],
      "metadata": {
        "id": "i5MPQtZIUj88"
      },
      "execution_count": 17,
      "outputs": []
    },
    {
      "cell_type": "code",
      "source": [
        "# Попробуем получить байтовые данные изображения из словаря\n",
        "image_bytes = None\n",
        "for key in first_image_dict.keys():\n",
        "    if isinstance(first_image_dict[key], bytes):\n",
        "        image_bytes = first_image_dict[key]\n",
        "        break\n",
        "\n",
        "# Если байтовые данные найдены, продолжим обработку\n",
        "if image_bytes:\n",
        "    # Преобразуем байты в массив NumPy\n",
        "    image_array = np.frombuffer(image_bytes, dtype=np.uint8)\n",
        "\n",
        "    # Декодируем изображение с использованием OpenCV\n",
        "    opencv_image = cv2.imdecode(image_array, cv2.IMREAD_COLOR)\n",
        "\n",
        "    # Преобразуем изображение в оттенки серого для работы с каскадом\n",
        "    gray_image = cv2.cvtColor(opencv_image, cv2.COLOR_BGR2GRAY)\n",
        "\n",
        "    # Поиск лиц на изображении\n",
        "    faces = face_cascade.detectMultiScale(gray_image, scaleFactor=1.1, minNeighbors=5, minSize=(30, 30))\n",
        "\n",
        "    # Если лица найдены, выделим их на изображении\n",
        "    if len(faces) > 0:\n",
        "        for (x, y, w, h) in faces:\n",
        "            cv2.rectangle(opencv_image, (x, y), (x + w, y + h), (255, 0, 0), 2)\n",
        "\n",
        "        # Отобразим изображение с выделенными лицами\n",
        "        plt.imshow(cv2.cvtColor(opencv_image, cv2.COLOR_BGR2RGB))\n",
        "        plt.axis('off')\n",
        "        plt.show()\n",
        "    else:\n",
        "        print(\"Лица не обнаружены на изображении.\")\n",
        "else:\n",
        "    print(\"Байтовые данные изображения не найдены в словаре.\")"
      ],
      "metadata": {
        "colab": {
          "base_uri": "https://localhost:8080/"
        },
        "id": "AG_FaoIBU4Al",
        "outputId": "77346b54-6c39-4298-f07b-63003b4767ee"
      },
      "execution_count": 18,
      "outputs": [
        {
          "output_type": "stream",
          "name": "stdout",
          "text": [
            "Лица не обнаружены на изображении.\n"
          ]
        }
      ]
    },
    {
      "cell_type": "markdown",
      "source": [
        "**Рассмотрим руки!**"
      ],
      "metadata": {
        "id": "I6zeRb9ifwKv"
      }
    },
    {
      "cell_type": "markdown",
      "source": [
        "*Инициализация каскада для распознавания рук (# Инициализация каскада для распознавания верхней части тела (включая руки))*"
      ],
      "metadata": {
        "id": "AKbhxeqAgho7"
      }
    },
    {
      "cell_type": "code",
      "source": [
        "upperbody_cascade = cv2.CascadeClassifier(cv2.data.haarcascades + 'haarcascade_upperbody.xml')"
      ],
      "metadata": {
        "id": "yEA4yXE6ewlT"
      },
      "execution_count": 19,
      "outputs": []
    },
    {
      "cell_type": "markdown",
      "source": [
        "*Подсчёт количества изображений в столбце 'image', на которых обнаружены руки с использованием Haar-каскада для рук*"
      ],
      "metadata": {
        "id": "eIvCUAS4g7Aq"
      }
    },
    {
      "cell_type": "code",
      "source": [
        "# Функция для подсчета изображений с руками\n",
        "def count_images_with_hands(image_dict):\n",
        "    # Попробуем получить байтовые данные изображения из словаря\n",
        "    image_bytes = None\n",
        "    for key in image_dict.keys():\n",
        "        if isinstance(image_dict[key], bytes):\n",
        "            image_bytes = image_dict[key]\n",
        "            break\n",
        "\n",
        "    # Если байтовые данные найдены, продолжим обработку\n",
        "    if image_bytes:\n",
        "        # Преобразуем байты в массив NumPy\n",
        "        image_array = np.frombuffer(image_bytes, dtype=np.uint8)\n",
        "\n",
        "        # Декодируем изображение с использованием OpenCV\n",
        "        opencv_image = cv2.imdecode(image_array, cv2.IMREAD_COLOR)\n",
        "\n",
        "        # Преобразуем изображение в оттенки серого для работы с каскадом\n",
        "        gray_image = cv2.cvtColor(opencv_image, cv2.COLOR_BGR2GRAY)\n",
        "\n",
        "        # Поиск верхних частей тела (включая руки) на изображении\n",
        "        upperbodies = upperbody_cascade.detectMultiScale(gray_image, scaleFactor=1.1, minNeighbors=5, minSize=(30, 30))\n",
        "\n",
        "        # Если верхние части тела (включая руки) найдены, увеличим счетчик\n",
        "        if len(upperbodies) > 0:\n",
        "            return 1\n",
        "        else:\n",
        "            return 0\n",
        "    else:\n",
        "        # Если байтовые данные изображения не найдены, вернем 0\n",
        "        return 0\n",
        "\n",
        "# Подсчет изображений с верхними частями тела (включая руки)\n",
        "count_hands = df['image'].apply(count_images_with_hands).sum()"
      ],
      "metadata": {
        "id": "LvOO242Dg1Mq"
      },
      "execution_count": 20,
      "outputs": []
    },
    {
      "cell_type": "code",
      "source": [
        "print(f\"Количество изображений с верхними частями тела (включая руки): {count_hands}\")"
      ],
      "metadata": {
        "id": "Mr5vuPCZ1XKs",
        "outputId": "7eaa654b-8a76-4881-84b1-e715efaa8f3e",
        "colab": {
          "base_uri": "https://localhost:8080/"
        }
      },
      "execution_count": 21,
      "outputs": [
        {
          "output_type": "stream",
          "name": "stdout",
          "text": [
            "Количество изображений с верхними частями тела (включая руки): 18\n"
          ]
        }
      ]
    },
    {
      "cell_type": "markdown",
      "source": [
        "# Инициализация каскада для распознавания руки\n"
      ],
      "metadata": {
        "id": "2PVzlWgWleYO"
      }
    },
    {
      "cell_type": "code",
      "source": [
        "hand_cascade = cv2.CascadeClassifier(cv2.data.haarcascades + 'haarcascade_hand.xml')"
      ],
      "metadata": {
        "id": "N1d5P_o-lHxJ"
      },
      "execution_count": 22,
      "outputs": []
    },
    {
      "cell_type": "markdown",
      "source": [
        "!!!*Импортируем некие библиотеки*"
      ],
      "metadata": {
        "id": "C2xe-mqcqW9A"
      }
    },
    {
      "cell_type": "code",
      "source": [
        "import requests\n",
        "from io import BytesIO\n",
        "import zipfile\n",
        "import os"
      ],
      "metadata": {
        "id": "E9pYDywspOV7"
      },
      "execution_count": 23,
      "outputs": []
    },
    {
      "cell_type": "code",
      "source": [
        "# Загрузка файла каскада для руки\n",
        "hand_cascade = cv2.CascadeClassifier(cv2.data.haarcascades + 'haarcascade_hand.xml')"
      ],
      "metadata": {
        "id": "nWCKDbBk3BUG"
      },
      "execution_count": 24,
      "outputs": []
    },
    {
      "cell_type": "code",
      "source": [
        "# Заменим 'haarcascade_hand.xml' на вашу скопированную ссылку haarcascade_hand.xml\n",
        "shared_link = 'haarcascade_hand.xml'\n"
      ],
      "metadata": {
        "id": "EYxyf3Sn3Fil"
      },
      "execution_count": 25,
      "outputs": []
    },
    {
      "cell_type": "code",
      "source": [
        "# Получение ID файла из ссылки\n",
        "file_id = shared_link.split('/')[-1]\n",
        "file_id = file_id.split('?')[0]"
      ],
      "metadata": {
        "id": "IBf9DFPV3Jai"
      },
      "execution_count": 26,
      "outputs": []
    },
    {
      "cell_type": "code",
      "source": [
        "# Формирование прямой ссылки на скачивание файла\n",
        "download_link = f'https://drive.google.com/uc?id={file_id}'"
      ],
      "metadata": {
        "id": "5BWGpAdq3MAb"
      },
      "execution_count": 27,
      "outputs": []
    },
    {
      "cell_type": "code",
      "source": [
        "# Загрузка файла\n",
        "response = requests.get(download_link)"
      ],
      "metadata": {
        "id": "g8k_oYXK3Opx"
      },
      "execution_count": 28,
      "outputs": []
    },
    {
      "cell_type": "code",
      "source": [
        "# Замена 'haarcascade_hand.xml' на фактическое имя вашего файла и укажите путь для сохранения\n",
        "cascade_path = '/content/haarcascade_hand.xml'"
      ],
      "metadata": {
        "id": "QnNVVDrJ3RVX"
      },
      "execution_count": 29,
      "outputs": []
    },
    {
      "cell_type": "code",
      "source": [
        "# Сохранение файла\n",
        "with open(cascade_path, 'wb') as f:\n",
        "    f.write(response.content)"
      ],
      "metadata": {
        "id": "n8zTgD0V3Yuc"
      },
      "execution_count": 30,
      "outputs": []
    },
    {
      "cell_type": "code",
      "source": [
        "# Проверка, загружен ли файл\n",
        "if os.path.isfile(cascade_path):\n",
        "    print(\"Файл успешно загружен.\")\n",
        "else:\n",
        "    print(\"Ошибка загрузки файла.\")"
      ],
      "metadata": {
        "id": "bE0rCfRt3Zv8",
        "outputId": "aae93067-2eec-40b7-9322-2cdcbe2766e4",
        "colab": {
          "base_uri": "https://localhost:8080/"
        }
      },
      "execution_count": 31,
      "outputs": [
        {
          "output_type": "stream",
          "name": "stdout",
          "text": [
            "Файл успешно загружен.\n"
          ]
        }
      ]
    },
    {
      "cell_type": "code",
      "source": [
        "# Загрузка каскада для руки\n",
        "response = requests.get(download_link)\n",
        "cascade_bytes = response.content\n",
        "hand_cascade = cv2.CascadeClassifier(cv2.data.haarcascades + 'haarcascade_hand.xml')\n",
        "hand_cascade.load(cv2.data.haarcascades + 'haarcascade_hand.xml')"
      ],
      "metadata": {
        "id": "GpUb9UPR3dPq",
        "outputId": "26cd8106-8474-444b-f3a2-8873cd023d42",
        "colab": {
          "base_uri": "https://localhost:8080/"
        }
      },
      "execution_count": 32,
      "outputs": [
        {
          "output_type": "execute_result",
          "data": {
            "text/plain": [
              "False"
            ]
          },
          "metadata": {},
          "execution_count": 32
        }
      ]
    },
    {
      "cell_type": "code",
      "source": [
        "# Проверка, загружен ли каскад\n",
        "if hand_cascade.empty():\n",
        "    print(\"Ошибка загрузки каскада.\")\n",
        "else:\n",
        "    print(\"Каскад успешно загружен.\")"
      ],
      "metadata": {
        "id": "7_OkxqME3f_w",
        "outputId": "a5121ee0-9688-4372-987d-6ac9f57ad750",
        "colab": {
          "base_uri": "https://localhost:8080/"
        }
      },
      "execution_count": 33,
      "outputs": [
        {
          "output_type": "stream",
          "name": "stdout",
          "text": [
            "Ошибка загрузки каскада.\n"
          ]
        }
      ]
    },
    {
      "cell_type": "code",
      "source": [
        "# Функция для обработки изображения и подсчета рук\n",
        "def process_image(image_dict):\n",
        "    # Попробуем получить байтовые данные изображения из словаря\n",
        "    image_bytes = None\n",
        "    for key in image_dict.keys():\n",
        "        if isinstance(image_dict[key], bytes):\n",
        "            image_bytes = image_dict[key]\n",
        "            break\n",
        "\n",
        "    # Если байтовые данные найдены, продолжим обработку\n",
        "    if image_bytes:\n",
        "        # Преобразуем байты в массив NumPy\n",
        "        image_array = np.frombuffer(image_bytes, dtype=np.uint8)\n",
        "\n",
        "        # Декодируем изображение с использованием OpenCV\n",
        "        opencv_image = cv2.imdecode(image_array, cv2.IMREAD_COLOR)\n",
        "\n",
        "        # Преобразуем изображение в оттенки серого\n",
        "        gray_image = cv2.cvtColor(opencv_image, cv2.COLOR_BGR2GRAY)\n",
        "\n",
        "        # Поиск руки (или человеческой кисти) на изображении\n",
        "        hands = hand_cascade.detectMultiScale(gray_image, scaleFactor=1.1, minNeighbors=5, minSize=(30, 30))\n",
        "\n",
        "        # Если рука (или человеческая кисть) найдена, увеличим счетчик и преобразуем изображение в черно-белый формат\n",
        "        if len(hands) > 0:\n",
        "            return 1, cv2.cvtColor(opencv_image, cv2.COLOR_BGR2GRAY)\n",
        "        else:\n",
        "            return 0, None\n",
        "    else:\n",
        "        # Если байтовые данные изображения не найдены, вернем 0\n",
        "        return 0, None\n"
      ],
      "metadata": {
        "id": "AChiWo6X3iu2"
      },
      "execution_count": 37,
      "outputs": []
    },
    {
      "cell_type": "code",
      "source": [
        "# Функция для обработки изображения и подсчета рук\n",
        "def process_image(image_dict):\n",
        "    # Попробуем получить байтовые данные изображения из словаря\n",
        "    image_bytes = None\n",
        "    for key in image_dict.keys():\n",
        "        if isinstance(image_dict[key], bytes):\n",
        "            image_bytes = image_dict[key]\n",
        "            break\n",
        "\n",
        "    # Если байтовые данные найдены, продолжим обработку\n",
        "    if image_bytes:\n",
        "        # Преобразуем байты в массив NumPy\n",
        "        image_array = np.frombuffer(image_bytes, dtype=np.uint8)\n",
        "\n",
        "        # Декодируем изображение с использованием OpenCV\n",
        "        opencv_image = cv2.imdecode(image_array, cv2.IMREAD_COLOR)\n",
        "\n",
        "        # Преобразуем изображение в оттенки серого\n",
        "        gray_image = cv2.cvtColor(opencv_image, cv2.COLOR_BGR2GRAY)\n",
        "\n",
        "        # Проверка, что каскад успешно загружен\n",
        "        if not hand_cascade.empty():\n",
        "            # Поиск руки (или человеческой кисти) на изображении\n",
        "            hands = hand_cascade.detectMultiScale(gray_image, scaleFactor=1.1, minNeighbors=5, minSize=(30, 30))\n",
        "\n",
        "            # Если рука (или человеческая кисть) найдена, увеличим счетчик и преобразуем изображение в черно-белый формат\n",
        "            if len(hands) > 0:\n",
        "                return 1, cv2.cvtColor(opencv_image, cv2.COLOR_BGR2GRAY)\n",
        "            else:\n",
        "                return 0, None\n",
        "        else:\n",
        "            print(\"Каскад для рук не загружен. Убедитесь, что файл каскада верный и доступен.\")\n",
        "            return 0, None\n",
        "    else:\n",
        "        # Если байтовые данные изображения не найдены, вернем 0\n",
        "        return 0, None\n"
      ],
      "metadata": {
        "id": "oijIBZNA3nK-"
      },
      "execution_count": 40,
      "outputs": []
    },
    {
      "cell_type": "code",
      "source": [
        "# Подсчет и обработка изображений\n",
        "count_hand_images = 0\n",
        "for index, row in df.iterrows():\n",
        "    result, processed_image = process_image(row['image'])\n",
        "    count_hand_images += result"
      ],
      "metadata": {
        "id": "2YDk8aPz5E0U",
        "outputId": "1acfaeef-bc8f-499c-f605-b2f64f5faf92",
        "colab": {
          "base_uri": "https://localhost:8080/"
        }
      },
      "execution_count": 42,
      "outputs": [
        {
          "output_type": "stream",
          "name": "stdout",
          "text": [
            "Каскад для рук не загружен. Убедитесь, что файл каскада верный и доступен.\n",
            "Каскад для рук не загружен. Убедитесь, что файл каскада верный и доступен.\n",
            "Каскад для рук не загружен. Убедитесь, что файл каскада верный и доступен.\n",
            "Каскад для рук не загружен. Убедитесь, что файл каскада верный и доступен.\n",
            "Каскад для рук не загружен. Убедитесь, что файл каскада верный и доступен.\n",
            "Каскад для рук не загружен. Убедитесь, что файл каскада верный и доступен.\n",
            "Каскад для рук не загружен. Убедитесь, что файл каскада верный и доступен.\n",
            "Каскад для рук не загружен. Убедитесь, что файл каскада верный и доступен.\n",
            "Каскад для рук не загружен. Убедитесь, что файл каскада верный и доступен.\n",
            "Каскад для рук не загружен. Убедитесь, что файл каскада верный и доступен.\n",
            "Каскад для рук не загружен. Убедитесь, что файл каскада верный и доступен.\n",
            "Каскад для рук не загружен. Убедитесь, что файл каскада верный и доступен.\n",
            "Каскад для рук не загружен. Убедитесь, что файл каскада верный и доступен.\n",
            "Каскад для рук не загружен. Убедитесь, что файл каскада верный и доступен.\n",
            "Каскад для рук не загружен. Убедитесь, что файл каскада верный и доступен.\n",
            "Каскад для рук не загружен. Убедитесь, что файл каскада верный и доступен.\n",
            "Каскад для рук не загружен. Убедитесь, что файл каскада верный и доступен.\n",
            "Каскад для рук не загружен. Убедитесь, что файл каскада верный и доступен.\n",
            "Каскад для рук не загружен. Убедитесь, что файл каскада верный и доступен.\n",
            "Каскад для рук не загружен. Убедитесь, что файл каскада верный и доступен.\n",
            "Каскад для рук не загружен. Убедитесь, что файл каскада верный и доступен.\n",
            "Каскад для рук не загружен. Убедитесь, что файл каскада верный и доступен.\n",
            "Каскад для рук не загружен. Убедитесь, что файл каскада верный и доступен.\n",
            "Каскад для рук не загружен. Убедитесь, что файл каскада верный и доступен.\n",
            "Каскад для рук не загружен. Убедитесь, что файл каскада верный и доступен.\n",
            "Каскад для рук не загружен. Убедитесь, что файл каскада верный и доступен.\n",
            "Каскад для рук не загружен. Убедитесь, что файл каскада верный и доступен.\n",
            "Каскад для рук не загружен. Убедитесь, что файл каскада верный и доступен.\n",
            "Каскад для рук не загружен. Убедитесь, что файл каскада верный и доступен.\n",
            "Каскад для рук не загружен. Убедитесь, что файл каскада верный и доступен.\n",
            "Каскад для рук не загружен. Убедитесь, что файл каскада верный и доступен.\n",
            "Каскад для рук не загружен. Убедитесь, что файл каскада верный и доступен.\n",
            "Каскад для рук не загружен. Убедитесь, что файл каскада верный и доступен.\n",
            "Каскад для рук не загружен. Убедитесь, что файл каскада верный и доступен.\n",
            "Каскад для рук не загружен. Убедитесь, что файл каскада верный и доступен.\n",
            "Каскад для рук не загружен. Убедитесь, что файл каскада верный и доступен.\n",
            "Каскад для рук не загружен. Убедитесь, что файл каскада верный и доступен.\n",
            "Каскад для рук не загружен. Убедитесь, что файл каскада верный и доступен.\n",
            "Каскад для рук не загружен. Убедитесь, что файл каскада верный и доступен.\n",
            "Каскад для рук не загружен. Убедитесь, что файл каскада верный и доступен.\n",
            "Каскад для рук не загружен. Убедитесь, что файл каскада верный и доступен.\n",
            "Каскад для рук не загружен. Убедитесь, что файл каскада верный и доступен.\n",
            "Каскад для рук не загружен. Убедитесь, что файл каскада верный и доступен.\n",
            "Каскад для рук не загружен. Убедитесь, что файл каскада верный и доступен.\n",
            "Каскад для рук не загружен. Убедитесь, что файл каскада верный и доступен.\n",
            "Каскад для рук не загружен. Убедитесь, что файл каскада верный и доступен.\n",
            "Каскад для рук не загружен. Убедитесь, что файл каскада верный и доступен.\n",
            "Каскад для рук не загружен. Убедитесь, что файл каскада верный и доступен.\n",
            "Каскад для рук не загружен. Убедитесь, что файл каскада верный и доступен.\n",
            "Каскад для рук не загружен. Убедитесь, что файл каскада верный и доступен.\n",
            "Каскад для рук не загружен. Убедитесь, что файл каскада верный и доступен.\n",
            "Каскад для рук не загружен. Убедитесь, что файл каскада верный и доступен.\n",
            "Каскад для рук не загружен. Убедитесь, что файл каскада верный и доступен.\n",
            "Каскад для рук не загружен. Убедитесь, что файл каскада верный и доступен.\n",
            "Каскад для рук не загружен. Убедитесь, что файл каскада верный и доступен.\n",
            "Каскад для рук не загружен. Убедитесь, что файл каскада верный и доступен.\n",
            "Каскад для рук не загружен. Убедитесь, что файл каскада верный и доступен.\n",
            "Каскад для рук не загружен. Убедитесь, что файл каскада верный и доступен.\n",
            "Каскад для рук не загружен. Убедитесь, что файл каскада верный и доступен.\n",
            "Каскад для рук не загружен. Убедитесь, что файл каскада верный и доступен.\n",
            "Каскад для рук не загружен. Убедитесь, что файл каскада верный и доступен.\n",
            "Каскад для рук не загружен. Убедитесь, что файл каскада верный и доступен.\n",
            "Каскад для рук не загружен. Убедитесь, что файл каскада верный и доступен.\n",
            "Каскад для рук не загружен. Убедитесь, что файл каскада верный и доступен.\n",
            "Каскад для рук не загружен. Убедитесь, что файл каскада верный и доступен.\n",
            "Каскад для рук не загружен. Убедитесь, что файл каскада верный и доступен.\n",
            "Каскад для рук не загружен. Убедитесь, что файл каскада верный и доступен.\n",
            "Каскад для рук не загружен. Убедитесь, что файл каскада верный и доступен.\n",
            "Каскад для рук не загружен. Убедитесь, что файл каскада верный и доступен.\n",
            "Каскад для рук не загружен. Убедитесь, что файл каскада верный и доступен.\n",
            "Каскад для рук не загружен. Убедитесь, что файл каскада верный и доступен.\n",
            "Каскад для рук не загружен. Убедитесь, что файл каскада верный и доступен.\n",
            "Каскад для рук не загружен. Убедитесь, что файл каскада верный и доступен.\n",
            "Каскад для рук не загружен. Убедитесь, что файл каскада верный и доступен.\n",
            "Каскад для рук не загружен. Убедитесь, что файл каскада верный и доступен.\n",
            "Каскад для рук не загружен. Убедитесь, что файл каскада верный и доступен.\n",
            "Каскад для рук не загружен. Убедитесь, что файл каскада верный и доступен.\n",
            "Каскад для рук не загружен. Убедитесь, что файл каскада верный и доступен.\n",
            "Каскад для рук не загружен. Убедитесь, что файл каскада верный и доступен.\n",
            "Каскад для рук не загружен. Убедитесь, что файл каскада верный и доступен.\n",
            "Каскад для рук не загружен. Убедитесь, что файл каскада верный и доступен.\n",
            "Каскад для рук не загружен. Убедитесь, что файл каскада верный и доступен.\n",
            "Каскад для рук не загружен. Убедитесь, что файл каскада верный и доступен.\n",
            "Каскад для рук не загружен. Убедитесь, что файл каскада верный и доступен.\n",
            "Каскад для рук не загружен. Убедитесь, что файл каскада верный и доступен.\n",
            "Каскад для рук не загружен. Убедитесь, что файл каскада верный и доступен.\n",
            "Каскад для рук не загружен. Убедитесь, что файл каскада верный и доступен.\n",
            "Каскад для рук не загружен. Убедитесь, что файл каскада верный и доступен.\n",
            "Каскад для рук не загружен. Убедитесь, что файл каскада верный и доступен.\n",
            "Каскад для рук не загружен. Убедитесь, что файл каскада верный и доступен.\n",
            "Каскад для рук не загружен. Убедитесь, что файл каскада верный и доступен.\n",
            "Каскад для рук не загружен. Убедитесь, что файл каскада верный и доступен.\n",
            "Каскад для рук не загружен. Убедитесь, что файл каскада верный и доступен.\n",
            "Каскад для рук не загружен. Убедитесь, что файл каскада верный и доступен.\n",
            "Каскад для рук не загружен. Убедитесь, что файл каскада верный и доступен.\n",
            "Каскад для рук не загружен. Убедитесь, что файл каскада верный и доступен.\n",
            "Каскад для рук не загружен. Убедитесь, что файл каскада верный и доступен.\n",
            "Каскад для рук не загружен. Убедитесь, что файл каскада верный и доступен.\n",
            "Каскад для рук не загружен. Убедитесь, что файл каскада верный и доступен.\n",
            "Каскад для рук не загружен. Убедитесь, что файл каскада верный и доступен.\n",
            "Каскад для рук не загружен. Убедитесь, что файл каскада верный и доступен.\n",
            "Каскад для рук не загружен. Убедитесь, что файл каскада верный и доступен.\n",
            "Каскад для рук не загружен. Убедитесь, что файл каскада верный и доступен.\n",
            "Каскад для рук не загружен. Убедитесь, что файл каскада верный и доступен.\n",
            "Каскад для рук не загружен. Убедитесь, что файл каскада верный и доступен.\n",
            "Каскад для рук не загружен. Убедитесь, что файл каскада верный и доступен.\n",
            "Каскад для рук не загружен. Убедитесь, что файл каскада верный и доступен.\n",
            "Каскад для рук не загружен. Убедитесь, что файл каскада верный и доступен.\n",
            "Каскад для рук не загружен. Убедитесь, что файл каскада верный и доступен.\n",
            "Каскад для рук не загружен. Убедитесь, что файл каскада верный и доступен.\n",
            "Каскад для рук не загружен. Убедитесь, что файл каскада верный и доступен.\n",
            "Каскад для рук не загружен. Убедитесь, что файл каскада верный и доступен.\n",
            "Каскад для рук не загружен. Убедитесь, что файл каскада верный и доступен.\n",
            "Каскад для рук не загружен. Убедитесь, что файл каскада верный и доступен.\n",
            "Каскад для рук не загружен. Убедитесь, что файл каскада верный и доступен.\n",
            "Каскад для рук не загружен. Убедитесь, что файл каскада верный и доступен.\n",
            "Каскад для рук не загружен. Убедитесь, что файл каскада верный и доступен.\n",
            "Каскад для рук не загружен. Убедитесь, что файл каскада верный и доступен.\n",
            "Каскад для рук не загружен. Убедитесь, что файл каскада верный и доступен.\n",
            "Каскад для рук не загружен. Убедитесь, что файл каскада верный и доступен.\n",
            "Каскад для рук не загружен. Убедитесь, что файл каскада верный и доступен.\n",
            "Каскад для рук не загружен. Убедитесь, что файл каскада верный и доступен.\n",
            "Каскад для рук не загружен. Убедитесь, что файл каскада верный и доступен.\n",
            "Каскад для рук не загружен. Убедитесь, что файл каскада верный и доступен.\n",
            "Каскад для рук не загружен. Убедитесь, что файл каскада верный и доступен.\n",
            "Каскад для рук не загружен. Убедитесь, что файл каскада верный и доступен.\n",
            "Каскад для рук не загружен. Убедитесь, что файл каскада верный и доступен.\n",
            "Каскад для рук не загружен. Убедитесь, что файл каскада верный и доступен.\n",
            "Каскад для рук не загружен. Убедитесь, что файл каскада верный и доступен.\n",
            "Каскад для рук не загружен. Убедитесь, что файл каскада верный и доступен.\n",
            "Каскад для рук не загружен. Убедитесь, что файл каскада верный и доступен.\n",
            "Каскад для рук не загружен. Убедитесь, что файл каскада верный и доступен.\n",
            "Каскад для рук не загружен. Убедитесь, что файл каскада верный и доступен.\n",
            "Каскад для рук не загружен. Убедитесь, что файл каскада верный и доступен.\n",
            "Каскад для рук не загружен. Убедитесь, что файл каскада верный и доступен.\n",
            "Каскад для рук не загружен. Убедитесь, что файл каскада верный и доступен.\n",
            "Каскад для рук не загружен. Убедитесь, что файл каскада верный и доступен.\n",
            "Каскад для рук не загружен. Убедитесь, что файл каскада верный и доступен.\n",
            "Каскад для рук не загружен. Убедитесь, что файл каскада верный и доступен.\n",
            "Каскад для рук не загружен. Убедитесь, что файл каскада верный и доступен.\n",
            "Каскад для рук не загружен. Убедитесь, что файл каскада верный и доступен.\n",
            "Каскад для рук не загружен. Убедитесь, что файл каскада верный и доступен.\n",
            "Каскад для рук не загружен. Убедитесь, что файл каскада верный и доступен.\n",
            "Каскад для рук не загружен. Убедитесь, что файл каскада верный и доступен.\n",
            "Каскад для рук не загружен. Убедитесь, что файл каскада верный и доступен.\n",
            "Каскад для рук не загружен. Убедитесь, что файл каскада верный и доступен.\n",
            "Каскад для рук не загружен. Убедитесь, что файл каскада верный и доступен.\n",
            "Каскад для рук не загружен. Убедитесь, что файл каскада верный и доступен.\n",
            "Каскад для рук не загружен. Убедитесь, что файл каскада верный и доступен.\n",
            "Каскад для рук не загружен. Убедитесь, что файл каскада верный и доступен.\n",
            "Каскад для рук не загружен. Убедитесь, что файл каскада верный и доступен.\n",
            "Каскад для рук не загружен. Убедитесь, что файл каскада верный и доступен.\n",
            "Каскад для рук не загружен. Убедитесь, что файл каскада верный и доступен.\n",
            "Каскад для рук не загружен. Убедитесь, что файл каскада верный и доступен.\n",
            "Каскад для рук не загружен. Убедитесь, что файл каскада верный и доступен.\n",
            "Каскад для рук не загружен. Убедитесь, что файл каскада верный и доступен.\n",
            "Каскад для рук не загружен. Убедитесь, что файл каскада верный и доступен.\n",
            "Каскад для рук не загружен. Убедитесь, что файл каскада верный и доступен.\n",
            "Каскад для рук не загружен. Убедитесь, что файл каскада верный и доступен.\n",
            "Каскад для рук не загружен. Убедитесь, что файл каскада верный и доступен.\n",
            "Каскад для рук не загружен. Убедитесь, что файл каскада верный и доступен.\n",
            "Каскад для рук не загружен. Убедитесь, что файл каскада верный и доступен.\n",
            "Каскад для рук не загружен. Убедитесь, что файл каскада верный и доступен.\n",
            "Каскад для рук не загружен. Убедитесь, что файл каскада верный и доступен.\n",
            "Каскад для рук не загружен. Убедитесь, что файл каскада верный и доступен.\n",
            "Каскад для рук не загружен. Убедитесь, что файл каскада верный и доступен.\n",
            "Каскад для рук не загружен. Убедитесь, что файл каскада верный и доступен.\n",
            "Каскад для рук не загружен. Убедитесь, что файл каскада верный и доступен.\n",
            "Каскад для рук не загружен. Убедитесь, что файл каскада верный и доступен.\n",
            "Каскад для рук не загружен. Убедитесь, что файл каскада верный и доступен.\n",
            "Каскад для рук не загружен. Убедитесь, что файл каскада верный и доступен.\n",
            "Каскад для рук не загружен. Убедитесь, что файл каскада верный и доступен.\n",
            "Каскад для рук не загружен. Убедитесь, что файл каскада верный и доступен.\n",
            "Каскад для рук не загружен. Убедитесь, что файл каскада верный и доступен.\n",
            "Каскад для рук не загружен. Убедитесь, что файл каскада верный и доступен.\n",
            "Каскад для рук не загружен. Убедитесь, что файл каскада верный и доступен.\n",
            "Каскад для рук не загружен. Убедитесь, что файл каскада верный и доступен.\n",
            "Каскад для рук не загружен. Убедитесь, что файл каскада верный и доступен.\n",
            "Каскад для рук не загружен. Убедитесь, что файл каскада верный и доступен.\n",
            "Каскад для рук не загружен. Убедитесь, что файл каскада верный и доступен.\n",
            "Каскад для рук не загружен. Убедитесь, что файл каскада верный и доступен.\n",
            "Каскад для рук не загружен. Убедитесь, что файл каскада верный и доступен.\n",
            "Каскад для рук не загружен. Убедитесь, что файл каскада верный и доступен.\n",
            "Каскад для рук не загружен. Убедитесь, что файл каскада верный и доступен.\n",
            "Каскад для рук не загружен. Убедитесь, что файл каскада верный и доступен.\n",
            "Каскад для рук не загружен. Убедитесь, что файл каскада верный и доступен.\n",
            "Каскад для рук не загружен. Убедитесь, что файл каскада верный и доступен.\n",
            "Каскад для рук не загружен. Убедитесь, что файл каскада верный и доступен.\n",
            "Каскад для рук не загружен. Убедитесь, что файл каскада верный и доступен.\n",
            "Каскад для рук не загружен. Убедитесь, что файл каскада верный и доступен.\n",
            "Каскад для рук не загружен. Убедитесь, что файл каскада верный и доступен.\n",
            "Каскад для рук не загружен. Убедитесь, что файл каскада верный и доступен.\n",
            "Каскад для рук не загружен. Убедитесь, что файл каскада верный и доступен.\n",
            "Каскад для рук не загружен. Убедитесь, что файл каскада верный и доступен.\n",
            "Каскад для рук не загружен. Убедитесь, что файл каскада верный и доступен.\n",
            "Каскад для рук не загружен. Убедитесь, что файл каскада верный и доступен.\n",
            "Каскад для рук не загружен. Убедитесь, что файл каскада верный и доступен.\n",
            "Каскад для рук не загружен. Убедитесь, что файл каскада верный и доступен.\n",
            "Каскад для рук не загружен. Убедитесь, что файл каскада верный и доступен.\n",
            "Каскад для рук не загружен. Убедитесь, что файл каскада верный и доступен.\n",
            "Каскад для рук не загружен. Убедитесь, что файл каскада верный и доступен.\n",
            "Каскад для рук не загружен. Убедитесь, что файл каскада верный и доступен.\n",
            "Каскад для рук не загружен. Убедитесь, что файл каскада верный и доступен.\n",
            "Каскад для рук не загружен. Убедитесь, что файл каскада верный и доступен.\n",
            "Каскад для рук не загружен. Убедитесь, что файл каскада верный и доступен.\n",
            "Каскад для рук не загружен. Убедитесь, что файл каскада верный и доступен.\n",
            "Каскад для рук не загружен. Убедитесь, что файл каскада верный и доступен.\n",
            "Каскад для рук не загружен. Убедитесь, что файл каскада верный и доступен.\n",
            "Каскад для рук не загружен. Убедитесь, что файл каскада верный и доступен.\n",
            "Каскад для рук не загружен. Убедитесь, что файл каскада верный и доступен.\n",
            "Каскад для рук не загружен. Убедитесь, что файл каскада верный и доступен.\n",
            "Каскад для рук не загружен. Убедитесь, что файл каскада верный и доступен.\n",
            "Каскад для рук не загружен. Убедитесь, что файл каскада верный и доступен.\n",
            "Каскад для рук не загружен. Убедитесь, что файл каскада верный и доступен.\n",
            "Каскад для рук не загружен. Убедитесь, что файл каскада верный и доступен.\n",
            "Каскад для рук не загружен. Убедитесь, что файл каскада верный и доступен.\n",
            "Каскад для рук не загружен. Убедитесь, что файл каскада верный и доступен.\n",
            "Каскад для рук не загружен. Убедитесь, что файл каскада верный и доступен.\n",
            "Каскад для рук не загружен. Убедитесь, что файл каскада верный и доступен.\n",
            "Каскад для рук не загружен. Убедитесь, что файл каскада верный и доступен.\n",
            "Каскад для рук не загружен. Убедитесь, что файл каскада верный и доступен.\n",
            "Каскад для рук не загружен. Убедитесь, что файл каскада верный и доступен.\n",
            "Каскад для рук не загружен. Убедитесь, что файл каскада верный и доступен.\n",
            "Каскад для рук не загружен. Убедитесь, что файл каскада верный и доступен.\n",
            "Каскад для рук не загружен. Убедитесь, что файл каскада верный и доступен.\n",
            "Каскад для рук не загружен. Убедитесь, что файл каскада верный и доступен.\n",
            "Каскад для рук не загружен. Убедитесь, что файл каскада верный и доступен.\n",
            "Каскад для рук не загружен. Убедитесь, что файл каскада верный и доступен.\n",
            "Каскад для рук не загружен. Убедитесь, что файл каскада верный и доступен.\n",
            "Каскад для рук не загружен. Убедитесь, что файл каскада верный и доступен.\n",
            "Каскад для рук не загружен. Убедитесь, что файл каскада верный и доступен.\n",
            "Каскад для рук не загружен. Убедитесь, что файл каскада верный и доступен.\n",
            "Каскад для рук не загружен. Убедитесь, что файл каскада верный и доступен.\n",
            "Каскад для рук не загружен. Убедитесь, что файл каскада верный и доступен.\n",
            "Каскад для рук не загружен. Убедитесь, что файл каскада верный и доступен.\n",
            "Каскад для рук не загружен. Убедитесь, что файл каскада верный и доступен.\n",
            "Каскад для рук не загружен. Убедитесь, что файл каскада верный и доступен.\n",
            "Каскад для рук не загружен. Убедитесь, что файл каскада верный и доступен.\n",
            "Каскад для рук не загружен. Убедитесь, что файл каскада верный и доступен.\n",
            "Каскад для рук не загружен. Убедитесь, что файл каскада верный и доступен.\n",
            "Каскад для рук не загружен. Убедитесь, что файл каскада верный и доступен.\n",
            "Каскад для рук не загружен. Убедитесь, что файл каскада верный и доступен.\n",
            "Каскад для рук не загружен. Убедитесь, что файл каскада верный и доступен.\n",
            "Каскад для рук не загружен. Убедитесь, что файл каскада верный и доступен.\n",
            "Каскад для рук не загружен. Убедитесь, что файл каскада верный и доступен.\n",
            "Каскад для рук не загружен. Убедитесь, что файл каскада верный и доступен.\n",
            "Каскад для рук не загружен. Убедитесь, что файл каскада верный и доступен.\n",
            "Каскад для рук не загружен. Убедитесь, что файл каскада верный и доступен.\n",
            "Каскад для рук не загружен. Убедитесь, что файл каскада верный и доступен.\n",
            "Каскад для рук не загружен. Убедитесь, что файл каскада верный и доступен.\n",
            "Каскад для рук не загружен. Убедитесь, что файл каскада верный и доступен.\n",
            "Каскад для рук не загружен. Убедитесь, что файл каскада верный и доступен.\n",
            "Каскад для рук не загружен. Убедитесь, что файл каскада верный и доступен.\n",
            "Каскад для рук не загружен. Убедитесь, что файл каскада верный и доступен.\n",
            "Каскад для рук не загружен. Убедитесь, что файл каскада верный и доступен.\n",
            "Каскад для рук не загружен. Убедитесь, что файл каскада верный и доступен.\n",
            "Каскад для рук не загружен. Убедитесь, что файл каскада верный и доступен.\n",
            "Каскад для рук не загружен. Убедитесь, что файл каскада верный и доступен.\n",
            "Каскад для рук не загружен. Убедитесь, что файл каскада верный и доступен.\n",
            "Каскад для рук не загружен. Убедитесь, что файл каскада верный и доступен.\n",
            "Каскад для рук не загружен. Убедитесь, что файл каскада верный и доступен.\n",
            "Каскад для рук не загружен. Убедитесь, что файл каскада верный и доступен.\n",
            "Каскад для рук не загружен. Убедитесь, что файл каскада верный и доступен.\n",
            "Каскад для рук не загружен. Убедитесь, что файл каскада верный и доступен.\n",
            "Каскад для рук не загружен. Убедитесь, что файл каскада верный и доступен.\n",
            "Каскад для рук не загружен. Убедитесь, что файл каскада верный и доступен.\n",
            "Каскад для рук не загружен. Убедитесь, что файл каскада верный и доступен.\n",
            "Каскад для рук не загружен. Убедитесь, что файл каскада верный и доступен.\n",
            "Каскад для рук не загружен. Убедитесь, что файл каскада верный и доступен.\n",
            "Каскад для рук не загружен. Убедитесь, что файл каскада верный и доступен.\n",
            "Каскад для рук не загружен. Убедитесь, что файл каскада верный и доступен.\n",
            "Каскад для рук не загружен. Убедитесь, что файл каскада верный и доступен.\n",
            "Каскад для рук не загружен. Убедитесь, что файл каскада верный и доступен.\n",
            "Каскад для рук не загружен. Убедитесь, что файл каскада верный и доступен.\n",
            "Каскад для рук не загружен. Убедитесь, что файл каскада верный и доступен.\n",
            "Каскад для рук не загружен. Убедитесь, что файл каскада верный и доступен.\n",
            "Каскад для рук не загружен. Убедитесь, что файл каскада верный и доступен.\n",
            "Каскад для рук не загружен. Убедитесь, что файл каскада верный и доступен.\n",
            "Каскад для рук не загружен. Убедитесь, что файл каскада верный и доступен.\n",
            "Каскад для рук не загружен. Убедитесь, что файл каскада верный и доступен.\n",
            "Каскад для рук не загружен. Убедитесь, что файл каскада верный и доступен.\n",
            "Каскад для рук не загружен. Убедитесь, что файл каскада верный и доступен.\n",
            "Каскад для рук не загружен. Убедитесь, что файл каскада верный и доступен.\n",
            "Каскад для рук не загружен. Убедитесь, что файл каскада верный и доступен.\n",
            "Каскад для рук не загружен. Убедитесь, что файл каскада верный и доступен.\n",
            "Каскад для рук не загружен. Убедитесь, что файл каскада верный и доступен.\n",
            "Каскад для рук не загружен. Убедитесь, что файл каскада верный и доступен.\n",
            "Каскад для рук не загружен. Убедитесь, что файл каскада верный и доступен.\n",
            "Каскад для рук не загружен. Убедитесь, что файл каскада верный и доступен.\n",
            "Каскад для рук не загружен. Убедитесь, что файл каскада верный и доступен.\n",
            "Каскад для рук не загружен. Убедитесь, что файл каскада верный и доступен.\n",
            "Каскад для рук не загружен. Убедитесь, что файл каскада верный и доступен.\n",
            "Каскад для рук не загружен. Убедитесь, что файл каскада верный и доступен.\n",
            "Каскад для рук не загружен. Убедитесь, что файл каскада верный и доступен.\n",
            "Каскад для рук не загружен. Убедитесь, что файл каскада верный и доступен.\n",
            "Каскад для рук не загружен. Убедитесь, что файл каскада верный и доступен.\n",
            "Каскад для рук не загружен. Убедитесь, что файл каскада верный и доступен.\n",
            "Каскад для рук не загружен. Убедитесь, что файл каскада верный и доступен.\n",
            "Каскад для рук не загружен. Убедитесь, что файл каскада верный и доступен.\n",
            "Каскад для рук не загружен. Убедитесь, что файл каскада верный и доступен.\n",
            "Каскад для рук не загружен. Убедитесь, что файл каскада верный и доступен.\n",
            "Каскад для рук не загружен. Убедитесь, что файл каскада верный и доступен.\n",
            "Каскад для рук не загружен. Убедитесь, что файл каскада верный и доступен.\n",
            "Каскад для рук не загружен. Убедитесь, что файл каскада верный и доступен.\n",
            "Каскад для рук не загружен. Убедитесь, что файл каскада верный и доступен.\n",
            "Каскад для рук не загружен. Убедитесь, что файл каскада верный и доступен.\n",
            "Каскад для рук не загружен. Убедитесь, что файл каскада верный и доступен.\n",
            "Каскад для рук не загружен. Убедитесь, что файл каскада верный и доступен.\n",
            "Каскад для рук не загружен. Убедитесь, что файл каскада верный и доступен.\n",
            "Каскад для рук не загружен. Убедитесь, что файл каскада верный и доступен.\n",
            "Каскад для рук не загружен. Убедитесь, что файл каскада верный и доступен.\n",
            "Каскад для рук не загружен. Убедитесь, что файл каскада верный и доступен.\n",
            "Каскад для рук не загружен. Убедитесь, что файл каскада верный и доступен.\n",
            "Каскад для рук не загружен. Убедитесь, что файл каскада верный и доступен.\n",
            "Каскад для рук не загружен. Убедитесь, что файл каскада верный и доступен.\n",
            "Каскад для рук не загружен. Убедитесь, что файл каскада верный и доступен.\n",
            "Каскад для рук не загружен. Убедитесь, что файл каскада верный и доступен.\n",
            "Каскад для рук не загружен. Убедитесь, что файл каскада верный и доступен.\n",
            "Каскад для рук не загружен. Убедитесь, что файл каскада верный и доступен.\n",
            "Каскад для рук не загружен. Убедитесь, что файл каскада верный и доступен.\n",
            "Каскад для рук не загружен. Убедитесь, что файл каскада верный и доступен.\n",
            "Каскад для рук не загружен. Убедитесь, что файл каскада верный и доступен.\n",
            "Каскад для рук не загружен. Убедитесь, что файл каскада верный и доступен.\n",
            "Каскад для рук не загружен. Убедитесь, что файл каскада верный и доступен.\n",
            "Каскад для рук не загружен. Убедитесь, что файл каскада верный и доступен.\n",
            "Каскад для рук не загружен. Убедитесь, что файл каскада верный и доступен.\n",
            "Каскад для рук не загружен. Убедитесь, что файл каскада верный и доступен.\n",
            "Каскад для рук не загружен. Убедитесь, что файл каскада верный и доступен.\n",
            "Каскад для рук не загружен. Убедитесь, что файл каскада верный и доступен.\n",
            "Каскад для рук не загружен. Убедитесь, что файл каскада верный и доступен.\n",
            "Каскад для рук не загружен. Убедитесь, что файл каскада верный и доступен.\n",
            "Каскад для рук не загружен. Убедитесь, что файл каскада верный и доступен.\n",
            "Каскад для рук не загружен. Убедитесь, что файл каскада верный и доступен.\n",
            "Каскад для рук не загружен. Убедитесь, что файл каскада верный и доступен.\n",
            "Каскад для рук не загружен. Убедитесь, что файл каскада верный и доступен.\n",
            "Каскад для рук не загружен. Убедитесь, что файл каскада верный и доступен.\n",
            "Каскад для рук не загружен. Убедитесь, что файл каскада верный и доступен.\n",
            "Каскад для рук не загружен. Убедитесь, что файл каскада верный и доступен.\n",
            "Каскад для рук не загружен. Убедитесь, что файл каскада верный и доступен.\n",
            "Каскад для рук не загружен. Убедитесь, что файл каскада верный и доступен.\n",
            "Каскад для рук не загружен. Убедитесь, что файл каскада верный и доступен.\n",
            "Каскад для рук не загружен. Убедитесь, что файл каскада верный и доступен.\n",
            "Каскад для рук не загружен. Убедитесь, что файл каскада верный и доступен.\n",
            "Каскад для рук не загружен. Убедитесь, что файл каскада верный и доступен.\n",
            "Каскад для рук не загружен. Убедитесь, что файл каскада верный и доступен.\n",
            "Каскад для рук не загружен. Убедитесь, что файл каскада верный и доступен.\n",
            "Каскад для рук не загружен. Убедитесь, что файл каскада верный и доступен.\n",
            "Каскад для рук не загружен. Убедитесь, что файл каскада верный и доступен.\n",
            "Каскад для рук не загружен. Убедитесь, что файл каскада верный и доступен.\n",
            "Каскад для рук не загружен. Убедитесь, что файл каскада верный и доступен.\n",
            "Каскад для рук не загружен. Убедитесь, что файл каскада верный и доступен.\n",
            "Каскад для рук не загружен. Убедитесь, что файл каскада верный и доступен.\n",
            "Каскад для рук не загружен. Убедитесь, что файл каскада верный и доступен.\n",
            "Каскад для рук не загружен. Убедитесь, что файл каскада верный и доступен.\n",
            "Каскад для рук не загружен. Убедитесь, что файл каскада верный и доступен.\n",
            "Каскад для рук не загружен. Убедитесь, что файл каскада верный и доступен.\n",
            "Каскад для рук не загружен. Убедитесь, что файл каскада верный и доступен.\n",
            "Каскад для рук не загружен. Убедитесь, что файл каскада верный и доступен.\n",
            "Каскад для рук не загружен. Убедитесь, что файл каскада верный и доступен.\n",
            "Каскад для рук не загружен. Убедитесь, что файл каскада верный и доступен.\n",
            "Каскад для рук не загружен. Убедитесь, что файл каскада верный и доступен.\n",
            "Каскад для рук не загружен. Убедитесь, что файл каскада верный и доступен.\n",
            "Каскад для рук не загружен. Убедитесь, что файл каскада верный и доступен.\n",
            "Каскад для рук не загружен. Убедитесь, что файл каскада верный и доступен.\n",
            "Каскад для рук не загружен. Убедитесь, что файл каскада верный и доступен.\n",
            "Каскад для рук не загружен. Убедитесь, что файл каскада верный и доступен.\n",
            "Каскад для рук не загружен. Убедитесь, что файл каскада верный и доступен.\n",
            "Каскад для рук не загружен. Убедитесь, что файл каскада верный и доступен.\n",
            "Каскад для рук не загружен. Убедитесь, что файл каскада верный и доступен.\n",
            "Каскад для рук не загружен. Убедитесь, что файл каскада верный и доступен.\n",
            "Каскад для рук не загружен. Убедитесь, что файл каскада верный и доступен.\n",
            "Каскад для рук не загружен. Убедитесь, что файл каскада верный и доступен.\n",
            "Каскад для рук не загружен. Убедитесь, что файл каскада верный и доступен.\n",
            "Каскад для рук не загружен. Убедитесь, что файл каскада верный и доступен.\n",
            "Каскад для рук не загружен. Убедитесь, что файл каскада верный и доступен.\n",
            "Каскад для рук не загружен. Убедитесь, что файл каскада верный и доступен.\n",
            "Каскад для рук не загружен. Убедитесь, что файл каскада верный и доступен.\n",
            "Каскад для рук не загружен. Убедитесь, что файл каскада верный и доступен.\n",
            "Каскад для рук не загружен. Убедитесь, что файл каскада верный и доступен.\n",
            "Каскад для рук не загружен. Убедитесь, что файл каскада верный и доступен.\n",
            "Каскад для рук не загружен. Убедитесь, что файл каскада верный и доступен.\n",
            "Каскад для рук не загружен. Убедитесь, что файл каскада верный и доступен.\n",
            "Каскад для рук не загружен. Убедитесь, что файл каскада верный и доступен.\n",
            "Каскад для рук не загружен. Убедитесь, что файл каскада верный и доступен.\n",
            "Каскад для рук не загружен. Убедитесь, что файл каскада верный и доступен.\n",
            "Каскад для рук не загружен. Убедитесь, что файл каскада верный и доступен.\n",
            "Каскад для рук не загружен. Убедитесь, что файл каскада верный и доступен.\n",
            "Каскад для рук не загружен. Убедитесь, что файл каскада верный и доступен.\n",
            "Каскад для рук не загружен. Убедитесь, что файл каскада верный и доступен.\n",
            "Каскад для рук не загружен. Убедитесь, что файл каскада верный и доступен.\n",
            "Каскад для рук не загружен. Убедитесь, что файл каскада верный и доступен.\n",
            "Каскад для рук не загружен. Убедитесь, что файл каскада верный и доступен.\n",
            "Каскад для рук не загружен. Убедитесь, что файл каскада верный и доступен.\n",
            "Каскад для рук не загружен. Убедитесь, что файл каскада верный и доступен.\n",
            "Каскад для рук не загружен. Убедитесь, что файл каскада верный и доступен.\n",
            "Каскад для рук не загружен. Убедитесь, что файл каскада верный и доступен.\n",
            "Каскад для рук не загружен. Убедитесь, что файл каскада верный и доступен.\n",
            "Каскад для рук не загружен. Убедитесь, что файл каскада верный и доступен.\n",
            "Каскад для рук не загружен. Убедитесь, что файл каскада верный и доступен.\n",
            "Каскад для рук не загружен. Убедитесь, что файл каскада верный и доступен.\n",
            "Каскад для рук не загружен. Убедитесь, что файл каскада верный и доступен.\n",
            "Каскад для рук не загружен. Убедитесь, что файл каскада верный и доступен.\n",
            "Каскад для рук не загружен. Убедитесь, что файл каскада верный и доступен.\n",
            "Каскад для рук не загружен. Убедитесь, что файл каскада верный и доступен.\n",
            "Каскад для рук не загружен. Убедитесь, что файл каскада верный и доступен.\n",
            "Каскад для рук не загружен. Убедитесь, что файл каскада верный и доступен.\n",
            "Каскад для рук не загружен. Убедитесь, что файл каскада верный и доступен.\n",
            "Каскад для рук не загружен. Убедитесь, что файл каскада верный и доступен.\n",
            "Каскад для рук не загружен. Убедитесь, что файл каскада верный и доступен.\n",
            "Каскад для рук не загружен. Убедитесь, что файл каскада верный и доступен.\n",
            "Каскад для рук не загружен. Убедитесь, что файл каскада верный и доступен.\n",
            "Каскад для рук не загружен. Убедитесь, что файл каскада верный и доступен.\n",
            "Каскад для рук не загружен. Убедитесь, что файл каскада верный и доступен.\n",
            "Каскад для рук не загружен. Убедитесь, что файл каскада верный и доступен.\n",
            "Каскад для рук не загружен. Убедитесь, что файл каскада верный и доступен.\n",
            "Каскад для рук не загружен. Убедитесь, что файл каскада верный и доступен.\n",
            "Каскад для рук не загружен. Убедитесь, что файл каскада верный и доступен.\n",
            "Каскад для рук не загружен. Убедитесь, что файл каскада верный и доступен.\n",
            "Каскад для рук не загружен. Убедитесь, что файл каскада верный и доступен.\n",
            "Каскад для рук не загружен. Убедитесь, что файл каскада верный и доступен.\n",
            "Каскад для рук не загружен. Убедитесь, что файл каскада верный и доступен.\n",
            "Каскад для рук не загружен. Убедитесь, что файл каскада верный и доступен.\n",
            "Каскад для рук не загружен. Убедитесь, что файл каскада верный и доступен.\n",
            "Каскад для рук не загружен. Убедитесь, что файл каскада верный и доступен.\n",
            "Каскад для рук не загружен. Убедитесь, что файл каскада верный и доступен.\n",
            "Каскад для рук не загружен. Убедитесь, что файл каскада верный и доступен.\n",
            "Каскад для рук не загружен. Убедитесь, что файл каскада верный и доступен.\n",
            "Каскад для рук не загружен. Убедитесь, что файл каскада верный и доступен.\n",
            "Каскад для рук не загружен. Убедитесь, что файл каскада верный и доступен.\n",
            "Каскад для рук не загружен. Убедитесь, что файл каскада верный и доступен.\n",
            "Каскад для рук не загружен. Убедитесь, что файл каскада верный и доступен.\n",
            "Каскад для рук не загружен. Убедитесь, что файл каскада верный и доступен.\n",
            "Каскад для рук не загружен. Убедитесь, что файл каскада верный и доступен.\n",
            "Каскад для рук не загружен. Убедитесь, что файл каскада верный и доступен.\n",
            "Каскад для рук не загружен. Убедитесь, что файл каскада верный и доступен.\n",
            "Каскад для рук не загружен. Убедитесь, что файл каскада верный и доступен.\n",
            "Каскад для рук не загружен. Убедитесь, что файл каскада верный и доступен.\n",
            "Каскад для рук не загружен. Убедитесь, что файл каскада верный и доступен.\n",
            "Каскад для рук не загружен. Убедитесь, что файл каскада верный и доступен.\n",
            "Каскад для рук не загружен. Убедитесь, что файл каскада верный и доступен.\n",
            "Каскад для рук не загружен. Убедитесь, что файл каскада верный и доступен.\n",
            "Каскад для рук не загружен. Убедитесь, что файл каскада верный и доступен.\n",
            "Каскад для рук не загружен. Убедитесь, что файл каскада верный и доступен.\n",
            "Каскад для рук не загружен. Убедитесь, что файл каскада верный и доступен.\n",
            "Каскад для рук не загружен. Убедитесь, что файл каскада верный и доступен.\n",
            "Каскад для рук не загружен. Убедитесь, что файл каскада верный и доступен.\n",
            "Каскад для рук не загружен. Убедитесь, что файл каскада верный и доступен.\n",
            "Каскад для рук не загружен. Убедитесь, что файл каскада верный и доступен.\n",
            "Каскад для рук не загружен. Убедитесь, что файл каскада верный и доступен.\n",
            "Каскад для рук не загружен. Убедитесь, что файл каскада верный и доступен.\n",
            "Каскад для рук не загружен. Убедитесь, что файл каскада верный и доступен.\n",
            "Каскад для рук не загружен. Убедитесь, что файл каскада верный и доступен.\n",
            "Каскад для рук не загружен. Убедитесь, что файл каскада верный и доступен.\n",
            "Каскад для рук не загружен. Убедитесь, что файл каскада верный и доступен.\n",
            "Каскад для рук не загружен. Убедитесь, что файл каскада верный и доступен.\n",
            "Каскад для рук не загружен. Убедитесь, что файл каскада верный и доступен.\n",
            "Каскад для рук не загружен. Убедитесь, что файл каскада верный и доступен.\n",
            "Каскад для рук не загружен. Убедитесь, что файл каскада верный и доступен.\n",
            "Каскад для рук не загружен. Убедитесь, что файл каскада верный и доступен.\n",
            "Каскад для рук не загружен. Убедитесь, что файл каскада верный и доступен.\n",
            "Каскад для рук не загружен. Убедитесь, что файл каскада верный и доступен.\n",
            "Каскад для рук не загружен. Убедитесь, что файл каскада верный и доступен.\n",
            "Каскад для рук не загружен. Убедитесь, что файл каскада верный и доступен.\n",
            "Каскад для рук не загружен. Убедитесь, что файл каскада верный и доступен.\n",
            "Каскад для рук не загружен. Убедитесь, что файл каскада верный и доступен.\n",
            "Каскад для рук не загружен. Убедитесь, что файл каскада верный и доступен.\n",
            "Каскад для рук не загружен. Убедитесь, что файл каскада верный и доступен.\n",
            "Каскад для рук не загружен. Убедитесь, что файл каскада верный и доступен.\n",
            "Каскад для рук не загружен. Убедитесь, что файл каскада верный и доступен.\n",
            "Каскад для рук не загружен. Убедитесь, что файл каскада верный и доступен.\n",
            "Каскад для рук не загружен. Убедитесь, что файл каскада верный и доступен.\n",
            "Каскад для рук не загружен. Убедитесь, что файл каскада верный и доступен.\n",
            "Каскад для рук не загружен. Убедитесь, что файл каскада верный и доступен.\n",
            "Каскад для рук не загружен. Убедитесь, что файл каскада верный и доступен.\n",
            "Каскад для рук не загружен. Убедитесь, что файл каскада верный и доступен.\n",
            "Каскад для рук не загружен. Убедитесь, что файл каскада верный и доступен.\n",
            "Каскад для рук не загружен. Убедитесь, что файл каскада верный и доступен.\n",
            "Каскад для рук не загружен. Убедитесь, что файл каскада верный и доступен.\n",
            "Каскад для рук не загружен. Убедитесь, что файл каскада верный и доступен.\n",
            "Каскад для рук не загружен. Убедитесь, что файл каскада верный и доступен.\n",
            "Каскад для рук не загружен. Убедитесь, что файл каскада верный и доступен.\n",
            "Каскад для рук не загружен. Убедитесь, что файл каскада верный и доступен.\n",
            "Каскад для рук не загружен. Убедитесь, что файл каскада верный и доступен.\n",
            "Каскад для рук не загружен. Убедитесь, что файл каскада верный и доступен.\n",
            "Каскад для рук не загружен. Убедитесь, что файл каскада верный и доступен.\n",
            "Каскад для рук не загружен. Убедитесь, что файл каскада верный и доступен.\n",
            "Каскад для рук не загружен. Убедитесь, что файл каскада верный и доступен.\n",
            "Каскад для рук не загружен. Убедитесь, что файл каскада верный и доступен.\n",
            "Каскад для рук не загружен. Убедитесь, что файл каскада верный и доступен.\n",
            "Каскад для рук не загружен. Убедитесь, что файл каскада верный и доступен.\n",
            "Каскад для рук не загружен. Убедитесь, что файл каскада верный и доступен.\n",
            "Каскад для рук не загружен. Убедитесь, что файл каскада верный и доступен.\n",
            "Каскад для рук не загружен. Убедитесь, что файл каскада верный и доступен.\n",
            "Каскад для рук не загружен. Убедитесь, что файл каскада верный и доступен.\n",
            "Каскад для рук не загружен. Убедитесь, что файл каскада верный и доступен.\n",
            "Каскад для рук не загружен. Убедитесь, что файл каскада верный и доступен.\n",
            "Каскад для рук не загружен. Убедитесь, что файл каскада верный и доступен.\n",
            "Каскад для рук не загружен. Убедитесь, что файл каскада верный и доступен.\n",
            "Каскад для рук не загружен. Убедитесь, что файл каскада верный и доступен.\n",
            "Каскад для рук не загружен. Убедитесь, что файл каскада верный и доступен.\n",
            "Каскад для рук не загружен. Убедитесь, что файл каскада верный и доступен.\n",
            "Каскад для рук не загружен. Убедитесь, что файл каскада верный и доступен.\n",
            "Каскад для рук не загружен. Убедитесь, что файл каскада верный и доступен.\n",
            "Каскад для рук не загружен. Убедитесь, что файл каскада верный и доступен.\n"
          ]
        }
      ]
    },
    {
      "cell_type": "code",
      "source": [
        "# Вывод количества изображений с руками\n",
        "print(f\"Количество изображений с руками: {count_hand_images}\")"
      ],
      "metadata": {
        "id": "lXhzEVWn3pgw",
        "outputId": "d0dbc42c-da30-40b7-f77a-d4589977bbab",
        "colab": {
          "base_uri": "https://localhost:8080/"
        }
      },
      "execution_count": 43,
      "outputs": [
        {
          "output_type": "stream",
          "name": "stdout",
          "text": [
            "Количество изображений с руками: 0\n"
          ]
        }
      ]
    },
    {
      "cell_type": "code",
      "source": [],
      "metadata": {
        "id": "JmkttchN5HOV"
      },
      "execution_count": null,
      "outputs": []
    }
  ]
}